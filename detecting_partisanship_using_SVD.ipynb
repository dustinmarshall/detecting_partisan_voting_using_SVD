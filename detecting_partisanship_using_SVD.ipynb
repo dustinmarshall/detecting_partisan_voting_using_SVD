{
 "cells": [
  {
   "cell_type": "code",
   "execution_count": 5,
   "metadata": {},
   "outputs": [
    {
     "data": {
      "image/png": "[encoded data removed]",
      "text/plain": [
       "<Figure size 432x288 with 1 Axes>"
      ]
     },
     "metadata": {
      "needs_background": "light"
     },
     "output_type": "display_data"
    },
    {
     "name": "stdout",
     "output_type": "stream",
     "text": [
      "The rank is  448\n"
     ]
    }
   ],
   "source": [
    "import matplotlib.pyplot as plt\n",
    "import numpy as np\n",
    " \n",
    "X = np.genfromtxt(\"congress_votes.csv\", delimiter=\",\", dtype=int)\n",
    "u, s, vt = np.linalg.svd(X, full_matrices=False)\n",
    "\n",
    "xpoints = range(len(s))\n",
    "ypoints = s\n",
    "\n",
    "plt.plot(xpoints, ypoints, 'o')\n",
    "plt.title(\"Figure 1: Distribution of Singular Values in \\n Federal Congressional Dataset\")\n",
    "plt.show()\n",
    "\n",
    "print(\"The rank is \", np.linalg.matrix_rank(X))"
   ]
  },
  {
   "cell_type": "code",
   "execution_count": 7,
   "metadata": {},
   "outputs": [
    {
     "data": {
      "image/png": "[encoded data removed]",
      "text/plain": [
       "<Figure size 432x288 with 1 Axes>"
      ]
     },
     "metadata": {
      "needs_background": "light"
     },
     "output_type": "display_data"
    },
    {
     "name": "stdout",
     "output_type": "stream",
     "text": [
      "The rank is  178\n"
     ]
    }
   ],
   "source": [
    "X = np.genfromtxt(\"illinois_votes.csv\", delimiter=\",\", dtype=int)\n",
    "u, s, vt = np.linalg.svd(X, full_matrices=False)\n",
    "\n",
    "xpoints = range(len(s))\n",
    "ypoints = s\n",
    "\n",
    "plt.plot(xpoints, ypoints, 'o')\n",
    "plt.title(\"Figure 2: Distribution of Singular Values in \\n State Congressional Dataset\")\n",
    "plt.show()\n",
    "\n",
    "print(\"The rank is \", np.linalg.matrix_rank(X))"
   ]
  },
  {
   "cell_type": "code",
   "execution_count": 30,
   "metadata": {},
   "outputs": [],
   "source": [
    "import numpy as np\n",
    "\n",
    "def objective(V, W, H):\n",
    "    ''' calculated the non-negative matrix factorization objective\n",
    "        \n",
    "    Usage:\n",
    "        W, H = objective(V, W, H)\n",
    "    Parameters:\n",
    "        V: a (d x n)-array containing n observations in the columns\n",
    "        W: (d x k)-array of non-negative basis images (components)\n",
    "        H: (k x n)-array of weights, one column for each of the n observations\n",
    "    Returns:\n",
    "        F: a scalar objective\n",
    "    '''    \n",
    "    d, n = V.shape\n",
    "    WH = np.dot(W, H)\n",
    "\n",
    "    F = (V * np.log(WH) - WH).sum() / (d * n)\n",
    "    return F\n",
    "\n",
    "\n",
    "def update_W(V, W, H):\n",
    "    ''' performs the multiplicative non-negative matrix factorization updates for W\n",
    "        \n",
    "    Usage:\n",
    "        W, H = update_W(V, W, H)\n",
    "    Parameters:\n",
    "        V: a (d x n)-array containing n observations in the columns\n",
    "        W: (d x k)-array of non-negative basis images (components)\n",
    "        H: (k x n)-array of weights, one column for each of the n observations\n",
    "    Returns:\n",
    "        W: (d x k)-array of updated non-negative basis images (components)\n",
    "    '''\n",
    "    \n",
    "    WH = np.dot(W, H)\n",
    "    W_new = W * np.dot(V / WH, H.T)\n",
    "    W_new = W_new / np.sum(W_new, axis=0, keepdims=True)    \n",
    "    return W_new\n",
    "\n",
    "def update_H(V, W, H):\n",
    "    ''' performs the multiplicative non-negative matrix factorization updates\n",
    "        \n",
    "    Usage:\n",
    "        W, H = update_H(V, W, H)\n",
    "    Parameters:\n",
    "        V: a (d x n)-array containing n observations in the columns\n",
    "        W: (d x k)-array of non-negative basis images (components)\n",
    "        H: (k x n)-array of weights, one column for each of the n observations\n",
    "    Returns:\n",
    "        H: (k x n)-array of updated weights, one column for each of the n observations\n",
    "    '''\n",
    "    \n",
    "    WH = np.dot(W, H)\n",
    "    H_new = H * np.dot((V / WH).T, W).T\n",
    "    return H_new\n",
    "\n",
    "\n",
    "def nmf(V, k, threshold=1e-5, maxiter=500):\n",
    "    ''' decomposes X into k components by non-negative matrix factorization\n",
    "        \n",
    "    Usage:\n",
    "        W, H = nmf(X, k)\n",
    "    Parameters:\n",
    "        V: a (d x n)-array containing n observations in the columns\n",
    "        k: number of components to extract\n",
    "        threshold: relative error threshold of the iteration\n",
    "        maxiter: maximum number of iterations\n",
    "    Returns:\n",
    "        W: (d x k)-array of non-negative basis images (components)\n",
    "        H: (k x n)-array of weights, one column for each of the n observations\n",
    "    '''\n",
    "    d, n = V.shape\n",
    "    W = np.random.rand(d, k)\n",
    "    H = np.random.rand(k, n)\n",
    "\n",
    "    F = objective(V, W, H)\n",
    "    \n",
    "    it_no = 0\n",
    "    converged = False\n",
    "\n",
    "    while (not converged) and it_no <= maxiter:\n",
    "        W_new = update_W(V, W, H)\n",
    "        H_new = update_H(V, W_new, H)   \n",
    "        F_new = objective(V, W_new, H_new)\n",
    "\n",
    "        converged = np.abs(F_new - F) <= threshold \n",
    "        W, H = W_new, H_new\n",
    "        it_no = it_no + 1\n",
    "    \n",
    "    return W, H"
   ]
  }
 ],
 "metadata": {
  "kernelspec": {
   "display_name": "Python 3.10.6 64-bit",
   "language": "python",
   "name": "python3"
  },
  "language_info": {
   "codemirror_mode": {
    "name": "ipython",
    "version": 3
   },
   "file_extension": ".py",
   "mimetype": "text/x-python",
   "name": "python",
   "nbconvert_exporter": "python",
   "pygments_lexer": "ipython3",
   "version": "3.10.6"
  },
  "orig_nbformat": 4,
  "vscode": {
   "interpreter": {
    "hash": "aee8b7b246df8f9039afb4144a1f6fd8d2ca17a180786b69acc140d282b71a49"
   }
  }
 },
 "nbformat": 4,
 "nbformat_minor": 2
}
